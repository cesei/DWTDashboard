{
 "cells": [
  {
   "cell_type": "markdown",
   "metadata": {
    "extensions": {
     "jupyter_dashboards": {
      "version": 1,
      "views": {
       "grid_default": {
        "hidden": true
       },
       "report_default": {
        "hidden": false
       }
      }
     }
    }
   },
   "source": [
    "DWT_Dashboard\n",
    "Interactive file processing and seizure detection\n",
    "Claire Seibold\n",
    "\n",
    "The default parameters are set for best results, please enter a file path and selet 'Reset Cache' for the text file to be processed. After the initial run, 'Reset Cache' can be unchecked to speed things up.\n"
   ]
  },
  {
   "cell_type": "code",
   "execution_count": 2,
   "metadata": {
    "collapsed": false,
    "extensions": {
     "jupyter_dashboards": {
      "version": 1,
      "views": {
       "grid_default": {
        "hidden": true
       },
       "report_default": {
        "hidden": true
       }
      }
     }
    }
   },
   "outputs": [
    {
     "name": "stdout",
     "output_type": "stream",
     "text": [
      "env: File_Folder=/Volumes/disk2s1/Expesicor/Sync/SampleFiles/0023.txt\n",
      "env: Percent_Sensitivity=10\n",
      "env: Expected_Artifact_Length=30\n",
      "env: Include_Spikes=True\n",
      "env: Reset_Cache=True\n"
     ]
    }
   ],
   "source": [
    "%env File_Folder=/Volumes/disk2s1/Expesicor/Sync/SampleFiles/0023.txt\n",
    "%env Percent_Sensitivity = 10\n",
    "%env Expected_Artifact_Length = 30\n",
    "%env Include_Spikes = True\n",
    "%env Reset_Cache = True"
   ]
  },
  {
   "cell_type": "code",
   "execution_count": 16,
   "metadata": {
    "collapsed": true,
    "extensions": {
     "jupyter_dashboards": {
      "version": 1,
      "views": {
       "grid_default": {
        "hidden": true
       },
       "report_default": {
        "hidden": true
       }
      }
     }
    }
   },
   "outputs": [],
   "source": [
    "import numpy as np\n",
    "import matplotlib.pyplot as plt\n",
    "%matplotlib inline\n",
    "import matplotlib.dates as mdates\n",
    "import pywt\n",
    "import os\n",
    "import sys\n",
    "import warnings\n",
    "import time\n",
    "import datetime\n",
    "from itertools import islice\n",
    "from ipywidgets import interact,interactive,widgets\n",
    "from IPython.display import Javascript, display"
   ]
  },
  {
   "cell_type": "code",
   "execution_count": 108,
   "metadata": {
    "collapsed": false,
    "extensions": {
     "jupyter_dashboards": {
      "version": 1,
      "views": {
       "grid_default": {
        "col": 0,
        "height": 4,
        "hidden": false,
        "row": 0,
        "width": 12
       },
       "report_default": {
        "hidden": false
       }
      }
     }
    }
   },
   "outputs": [
    {
     "data": {
      "text/plain": [
       "10.0"
      ]
     },
     "metadata": {},
     "output_type": "display_data"
    }
   ],
   "source": [
    "def f(x):\n",
    "    return x\n",
    "\n",
    "SensitivityWidget = widgets.FloatSlider(\n",
    "    value=10,\n",
    "    min=0,\n",
    "    max=20.0,\n",
    "    step=0.1,\n",
    "    description='Percent sensitivity: ',\n",
    "    disabled=False,\n",
    "    continuous_update=False,\n",
    "    orientation='horizontal',\n",
    "    readout=True,\n",
    "    readout_format=':.2%',\n",
    ")\n",
    "\n",
    "interact(f,x=SensitivityWidget);"
   ]
  },
  {
   "cell_type": "code",
   "execution_count": 118,
   "metadata": {
    "collapsed": false,
    "extensions": {
     "jupyter_dashboards": {
      "version": 1,
      "views": {
       "grid_default": {
        "col": 0,
        "height": 4,
        "hidden": true,
        "row": 4,
        "width": 12
       },
       "report_default": {
        "hidden": false
       }
      }
     }
    }
   },
   "outputs": [
    {
     "data": {
      "text/plain": [
       "40.0"
      ]
     },
     "metadata": {},
     "output_type": "display_data"
    }
   ],
   "source": [
    "TimeWidget = widgets.FloatSlider(\n",
    "    value=30,\n",
    "    min=20,\n",
    "    max=60,\n",
    "    step=1,\n",
    "    description='Minimum artefact length of interest: ',\n",
    "    disabled=False,\n",
    "    continuous_update=True,\n",
    "    orientation='horizontal',\n",
    "    readout=True,\n",
    "    readout_format='.1f',\n",
    ")\n",
    "\n",
    "interact(f,x=TimeWidget);"
   ]
  },
  {
   "cell_type": "code",
   "execution_count": 44,
   "metadata": {
    "collapsed": false,
    "extensions": {
     "jupyter_dashboards": {
      "version": 1,
      "views": {
       "grid_default": {
        "col": 0,
        "height": 6,
        "hidden": false,
        "row": 4,
        "width": 4
       },
       "report_default": {
        "hidden": false
       }
      }
     }
    }
   },
   "outputs": [
    {
     "data": {
      "text/plain": [
       "'/Volumes/disk2s1/Expesicor/Sync/SampleFiles/0023.txt'"
      ]
     },
     "metadata": {},
     "output_type": "display_data"
    }
   ],
   "source": [
    "PathWidget = widgets.Text(value = '/path/to/file/',\n",
    "                          placeholder = 'Type File Path',\n",
    "                          description = 'File path: ',\n",
    "                          disabled = False);\n",
    "def g(x):\n",
    "    return x\n",
    "    \n",
    "interact(g,x=PathWidget)"
   ]
  },
  {
   "cell_type": "code",
   "execution_count": 45,
   "metadata": {
    "collapsed": false,
    "extensions": {
     "jupyter_dashboards": {
      "version": 1,
      "views": {
       "grid_default": {
        "hidden": true
       },
       "report_default": {
        "hidden": false
       }
      }
     }
    }
   },
   "outputs": [
    {
     "data": {
      "text/plain": [
       "True"
      ]
     },
     "metadata": {},
     "output_type": "display_data"
    }
   ],
   "source": [
    "SpikeWidget = widgets.Checkbox(\n",
    "              value=True,\n",
    "              description='Include unusual spikes',\n",
    "              disabled=False)\n",
    "\n",
    "ResetWidget = widgets.Checkbox(\n",
    "              value=False,\n",
    "              description='Reset cached data',\n",
    "              disabled=False)\n",
    "    \n",
    "interact(g,x=SpikeWidget);\n",
    "interact(g,x=ResetWidget);"
   ]
  },
  {
   "cell_type": "code",
   "execution_count": 25,
   "metadata": {
    "collapsed": false,
    "extensions": {
     "jupyter_dashboards": {
      "version": 1,
      "views": {
       "grid_default": {
        "hidden": true
       },
       "report_default": {
        "hidden": true
       }
      }
     }
    }
   },
   "outputs": [
    {
     "data": {
      "application/javascript": [
       "IPython.notebook.execute_cell_range(IPython.notebook.get_selected_index()+1, IPython.notebook.ncells())"
      ],
      "text/plain": [
       "<IPython.core.display.Javascript object>"
      ]
     },
     "metadata": {},
     "output_type": "display_data"
    },
    {
     "data": {
      "application/javascript": [
       "IPython.notebook.execute_cell_range(IPython.notebook.get_selected_index()+1, IPython.notebook.ncells())"
      ],
      "text/plain": [
       "<IPython.core.display.Javascript object>"
      ]
     },
     "metadata": {},
     "output_type": "display_data"
    },
    {
     "data": {
      "application/javascript": [
       "IPython.notebook.execute_cell_range(IPython.notebook.get_selected_index()+1, IPython.notebook.ncells())"
      ],
      "text/plain": [
       "<IPython.core.display.Javascript object>"
      ]
     },
     "metadata": {},
     "output_type": "display_data"
    },
    {
     "data": {
      "application/javascript": [
       "IPython.notebook.execute_cell_range(IPython.notebook.get_selected_index()+1, IPython.notebook.ncells())"
      ],
      "text/plain": [
       "<IPython.core.display.Javascript object>"
      ]
     },
     "metadata": {},
     "output_type": "display_data"
    },
    {
     "data": {
      "application/javascript": [
       "IPython.notebook.execute_cell_range(IPython.notebook.get_selected_index()+1, IPython.notebook.ncells())"
      ],
      "text/plain": [
       "<IPython.core.display.Javascript object>"
      ]
     },
     "metadata": {},
     "output_type": "display_data"
    },
    {
     "data": {
      "application/javascript": [
       "IPython.notebook.execute_cell_range(IPython.notebook.get_selected_index()+1, IPython.notebook.ncells())"
      ],
      "text/plain": [
       "<IPython.core.display.Javascript object>"
      ]
     },
     "metadata": {},
     "output_type": "display_data"
    },
    {
     "data": {
      "application/javascript": [
       "IPython.notebook.execute_cell_range(IPython.notebook.get_selected_index()+1, IPython.notebook.ncells())"
      ],
      "text/plain": [
       "<IPython.core.display.Javascript object>"
      ]
     },
     "metadata": {},
     "output_type": "display_data"
    },
    {
     "data": {
      "application/javascript": [
       "IPython.notebook.execute_cell_range(IPython.notebook.get_selected_index()+1, IPython.notebook.ncells())"
      ],
      "text/plain": [
       "<IPython.core.display.Javascript object>"
      ]
     },
     "metadata": {},
     "output_type": "display_data"
    },
    {
     "data": {
      "application/javascript": [
       "IPython.notebook.execute_cell_range(IPython.notebook.get_selected_index()+1, IPython.notebook.ncells())"
      ],
      "text/plain": [
       "<IPython.core.display.Javascript object>"
      ]
     },
     "metadata": {},
     "output_type": "display_data"
    },
    {
     "data": {
      "application/javascript": [
       "IPython.notebook.execute_cell_range(IPython.notebook.get_selected_index()+1, IPython.notebook.ncells())"
      ],
      "text/plain": [
       "<IPython.core.display.Javascript object>"
      ]
     },
     "metadata": {},
     "output_type": "display_data"
    }
   ],
   "source": [
    "def run_all(ev):\n",
    "    display(Javascript('IPython.notebook.execute_cell_range(IPython.notebook.get_selected_index()+1, IPython.notebook.ncells())'))\n",
    "\n",
    "\n",
    "button = widgets.Button(description=\"Begin Processing\")\n",
    "button.on_click(run_all)\n",
    "display(button)"
   ]
  },
  {
   "cell_type": "code",
   "execution_count": 119,
   "metadata": {
    "collapsed": true,
    "extensions": {
     "jupyter_dashboards": {
      "version": 1,
      "views": {
       "grid_default": {
        "hidden": true
       },
       "report_default": {
        "hidden": true
       }
      }
     }
    }
   },
   "outputs": [],
   "source": [
    "#Functions\n",
    "def ReadChunks(file,chunk_size=1024*1024*26):\n",
    "    \"\"\"Lazy function (generator) to read a file piece by piece.\n",
    "    Default chunk size: 1024x1024\"\"\"\n",
    "    while True:\n",
    "        data = file.read(nChannels*chunk_size).splitlines()\n",
    "        if not data:\n",
    "            break\n",
    "        yield data\n",
    "\n",
    "def seekLine(file, n):\n",
    "    for ignored_line in islice(file, n - 1):\n",
    "        pass # skip n-1 lines\n",
    "\n",
    "def ProcessData(data,progress):\n",
    "    \"\"\"Read chunks of data that comes in split by line\n",
    "    Split by tab and increment the progress\"\"\"\n",
    "    global X\n",
    "    for item in data:\n",
    "        X.append([x for x in item[:-1].split('\\t')])\n",
    "        progress = progress + 1\n",
    "    return progress\n",
    "\n",
    "def ProcessLine(line):\n",
    "    \"\"\"Fancy line processor\n",
    "    Checks that no channel was cut off, appends the entries,\n",
    "    Trims and returns the time\"\"\"\n",
    "    global X\n",
    "    empt = [1 for i in line.split('\\t') if not i]\n",
    "    if len(line.split('\\t')) == nChannels and not empt:\n",
    "        try:\n",
    "            X.append([float(x) for x in line.split('\\t')])\n",
    "        except ValueError:\n",
    "            pass"
   ]
  },
  {
   "cell_type": "code",
   "execution_count": 120,
   "metadata": {
    "collapsed": true,
    "extensions": {
     "jupyter_dashboards": {
      "version": 1,
      "views": {
       "grid_default": {
        "hidden": true
       },
       "report_default": {
        "hidden": true
       }
      }
     }
    }
   },
   "outputs": [],
   "source": [
    "def GetStartTime(file):\n",
    "    line = file.readline(30)\n",
    "    line = line.split('\\t')\n",
    "    return float(line[0])\n",
    "\n",
    "def GetTimeSinceStart(endSecond,startSecond):\n",
    "    '''return the seconds since the file began'''\n",
    "    return (endSecond - startSecond)/60"
   ]
  },
  {
   "cell_type": "code",
   "execution_count": 121,
   "metadata": {
    "collapsed": true,
    "extensions": {
     "jupyter_dashboards": {
      "version": 1,
      "views": {
       "grid_default": {
        "hidden": true
       },
       "report_default": {
        "hidden": true
       }
      }
     }
    }
   },
   "outputs": [],
   "source": [
    "def GetChannels(file):\n",
    "    \"\"\"Return number of channels/columns in the file\"\"\"\n",
    "    global nChannels\n",
    "    init = file.readlines(1)\n",
    "    nChannels = len([i.split('\\t') for i in init][0])\n",
    "\n",
    "def GetSamplingRate(file):\n",
    "    init = [next(file) for x in range(2)]\n",
    "    init\n",
    "    t = [i.split('\\t') for i in init]\n",
    "    rate = round(1/(float(t[1][0]) - float(t[0][0])),0)\n",
    "    return rate"
   ]
  },
  {
   "cell_type": "code",
   "execution_count": 122,
   "metadata": {
    "collapsed": true,
    "extensions": {
     "jupyter_dashboards": {
      "version": 1,
      "views": {
       "grid_default": {
        "hidden": true
       },
       "report_default": {
        "hidden": true
       }
      }
     }
    }
   },
   "outputs": [],
   "source": [
    "def ProcessDWT(includeSpikes):\n",
    "    \"\"\"Process 256 measurements at a time with the DWT\n",
    "    Take the proportion of energy contained in each coefficient\n",
    "    Append result in D with number of columns = 6 x channels\"\"\"\n",
    "    global D\n",
    "    for i in range(0,X.shape[0]-1,DWT_blocksize):\n",
    "        re = [X[0,0]] #append time\n",
    "        if includeSpikes is False: upperLimit = np.percentile(X[i:i+DWT_blocksize,col],90)\n",
    "        for col in range(1,nChannels):\n",
    "            temp = [float(j) for j in X[i:i+DWT_blocksize,col]]\n",
    "            if includeSpikes is False: temp = [0 if abs(i) > upperLimit else i for i in temp]\n",
    "            decomp = pywt.wavedec(temp,w,level=DWT_frequencies)\n",
    "            energy = [np.mean(decomp[l]**2) for l in range(len(decomp)-1,-1,-1)]\n",
    "            re = re + [j/sum(energy) for j in energy]\n",
    "        D.append(re)\n",
    "\n",
    "def SeizureSearch(a,b,results):\n",
    "    \"\"\"Search blocks of length TIME_BLOCK for places of low variation\n",
    "    For comparison, divide the file into 6 parts (usually 30 minute segments)\"\"\"\n",
    "    col = 0\n",
    "    for re in range(1,(nChannels-1)*(DWT_frequencies+1)+1):\n",
    "        lastmoment = 0\n",
    "        if (re-1) % (DWT_frequencies+1) == 0:\n",
    "            col += 1\n",
    "\n",
    "        #how much time is in each low variance increment: D[ts,0]-D[0,0]\n",
    "        lowvar = GetLowVariance(a,b,re)\n",
    "\n",
    "        #if more than 20 artefacts, skip\n",
    "        if len(lowvar) > 0:\n",
    "            for c,d in enumerate(lowvar):\n",
    "                minute = D[lowvar[c],0]\n",
    "                matches = [x for x in results if x[2] == col and x[0] == lowvar[c]]\n",
    "                #if an artefact within one minute was found, skip\n",
    "                if minute - lastmoment > b and not matches:\n",
    "                    addl = [i for i,j in enumerate(results) if j[0] in range(lowvar[c]-b,lowvar[c]+b) and j[2] == col]\n",
    "                    if not addl:\n",
    "                        results.append([lowvar[c],re,col])\n",
    "                    else:\n",
    "                        results[addl[0]].append((re-1)%(DWT_frequencies+1))\n",
    "                    lastmoment = minute\n",
    "    return results"
   ]
  },
  {
   "cell_type": "code",
   "execution_count": 123,
   "metadata": {
    "collapsed": true,
    "extensions": {
     "jupyter_dashboards": {
      "version": 1,
      "views": {
       "grid_default": {
        "hidden": true
       },
       "report_default": {
        "hidden": true
       }
      }
     }
    }
   },
   "outputs": [],
   "source": [
    "def GetLowVariance(a,b,re):\n",
    "    '''Return time of blocks that have 'a' less variation than the average'''\n",
    "    result = []\n",
    "    ll = a*np.nanmean([np.nanstd(D[t-b:t,re]) for t in range(b,len(D[:,re]),b)])\n",
    "    result.extend([t for t in range(b,len(D[:,re]),int(b/2)) if np.nanstd(D[t-b:t,re])<ll])\n",
    "    return result"
   ]
  },
  {
   "cell_type": "code",
   "execution_count": 124,
   "metadata": {
    "collapsed": false,
    "extensions": {
     "jupyter_dashboards": {
      "version": 1,
      "views": {
       "grid_default": {
        "hidden": true
       },
       "report_default": {
        "hidden": true
       }
      }
     }
    }
   },
   "outputs": [],
   "source": [
    "def FrequencyArtefactImage(t,path,re,col):\n",
    "    '''Create image of DWT processed signal at artefact'''\n",
    "    spath = path[-8:-4]\n",
    "    #Get time at start and end\n",
    "    min_t = max(t-300,0)\n",
    "    max_t = min(t+300,len(D[:,0])-1)\n",
    "    minute = (D[min_t,0] - D[0,0])/60\n",
    "    maxminute = (D[max_t,0] - D[0,0])/60\n",
    "    t = [datetime.datetime.utcfromtimestamp(j) for i,j in enumerate(D[min_t:max_t,0])]\n",
    "    plt.title('Frequency band: '+str((re-1)%(DWT_frequencies+1)))\n",
    "    plt.xlabel('Time')\n",
    "    #plt.xaxis.set_major_locator(FormatStrFormatter('%.3f'))\n",
    "    plt.plot(t,D[min_t:max_t,re])\n",
    "    plt.show()\n",
    "\n",
    "def OriginalArtefactImage(x,y,col,path):\n",
    "    '''IN PROGRESS... Create image of DWT processed signal at artefact'''\n",
    "    spath = path[-8:-4]\n",
    "    t = [datetime.datetime.utcfromtimestamp(x[i]) for i,j in enumerate(x)]\n",
    "    plt.title('Artefact found in channel:' + str(col))\n",
    "    plt.xlabel('Time')\n",
    "    plt.ylabel('V')\n",
    "    myFmt = mdates.DateFormatter('%H:%M:%S')\n",
    "    plt.gca().xaxis.set_major_formatter(myFmt)\n",
    "    plt.plot(t,y)\n",
    "    plt.gcf().autofmt_xdate()\n",
    "    moment = y[int(len(y)/2)]\n",
    "    plt.show()\n",
    "    \n",
    "def GetSeizureImage(results,b,file):\n",
    "    '''IN PROGRESS... Get location of artefact in original file'''\n",
    "    x = {}\n",
    "    y = {}\n",
    "    for i,item in enumerate(results):\n",
    "        row = int(item[0])#todo: index of x?\n",
    "        min_t = max(row - 500,0)#max(row*DWT_blocksize - 1000*b,0)\n",
    "        max_t = min(row + 500,D.shape[0]*DWT_blocksize)#min(row*DWT_blocksize + 1000*b,D.shape[0]*DWT_blocksize)\n",
    "        y[i] = [min_t,max_t,item[2]]\n",
    "    \n",
    "    #for i in y:\n",
    "        current_line = 0\n",
    "        with open(filename,'r') as file:\n",
    "            #seekLine(file,jumpStart)\n",
    "            for line in file:\n",
    "                trimmed = line.strip('\\n').split('\\t')\n",
    "                if float(trimmed[0]) < D[y[i][1],0] and float(trimmed[0]) > D[y[i][0],0]:\n",
    "                    if i not in x.keys():\n",
    "                        x[i] = [float(trimmed[0])]\n",
    "                    else:\n",
    "                        x[i].append(float(trimmed[0]))\n",
    "                    y[i].append(float(trimmed[y[i][2]]))\n",
    "                elif float(trimmed[0]) == D[y[i][1],0]:\n",
    "                    OriginalArtefactImage(x[i],y[i][3:],y[i][2],filename)\n",
    "                elif float(trimmed[0]) > D[y[i][1],0]:\n",
    "                    break\n",
    "            "
   ]
  },
  {
   "cell_type": "code",
   "execution_count": 125,
   "metadata": {
    "collapsed": true,
    "extensions": {
     "jupyter_dashboards": {
      "version": 1,
      "views": {
       "grid_default": {
        "hidden": true
       },
       "report_default": {
        "hidden": true
       }
      }
     }
    }
   },
   "outputs": [],
   "source": [
    "# %%\n",
    "#d1 = 128-256, d2 = 64-128, d3 = 32-64, d4 = 16-32, d5 = 8-16, a5 = 0-8\n",
    "#Globals and Constants\n",
    "global jumpStart\n",
    "global w, nChannels, DWT_frequencies\n",
    "global X, D\n",
    "\n",
    "#D1 is 256-512 hertz with this sampling\n",
    "DWT_blocksize = 512\n",
    "w = pywt.Wavelet('db4')\n",
    "DWT_frequencies = pywt.dwt_max_level(DWT_blocksize,w.dec_len)-1\n",
    "\n",
    "class BreakIt(Exception): pass"
   ]
  },
  {
   "cell_type": "code",
   "execution_count": 126,
   "metadata": {
    "collapsed": false,
    "extensions": {
     "jupyter_dashboards": {
      "version": 1,
      "views": {
       "grid_default": {
        "hidden": true
       },
       "report_default": {
        "hidden": true
       }
      }
     }
    }
   },
   "outputs": [
    {
     "name": "stdout",
     "output_type": "stream",
     "text": [
      "\n",
      "\n",
      "File /Volumes/disk2s1/Expesicor/Sync/SampleFiles/0023.txt\n",
      "2 channels exist over a length of 118.72 minutes \n",
      "\n",
      "30.000 Minutes Processed\tChannel: 1\tTimestamp: 9:56\t\tFreq D: 0,[]\n",
      "\tChannel: 1\tTimestamp: 9:57\t\tFreq D: 0,[]\n",
      "\tChannel: 1\tTimestamp: 9:58\t\tFreq D: 0,[]\n",
      "\tChannel: 1\tTimestamp: 9:58\t\tFreq D: 0,[]\n",
      "\tChannel: 1\tTimestamp: 10:01\t\tFreq D: 0,[]\n",
      "\tChannel: 1\tTimestamp: 10:01\t\tFreq D: 0,[1]\n",
      "\tChannel: 1\tTimestamp: 10:02\t\tFreq D: 0,[1]\n",
      "\tChannel: 1\tTimestamp: 10:03\t\tFreq D: 0,[]\n",
      "\tChannel: 1\tTimestamp: 10:04\t\tFreq D: 0,[]\n",
      "\tChannel: 1\tTimestamp: 10:05\t\tFreq D: 0,[]\n",
      "\tChannel: 1\tTimestamp: 10:06\t\tFreq D: 0,[]\n",
      "\tChannel: 1\tTimestamp: 10:06\t\tFreq D: 0,[]\n",
      "\tChannel: 1\tTimestamp: 10:07\t\tFreq D: 0,[]\n",
      "\tChannel: 1\tTimestamp: 10:08\t\tFreq D: 0,[]\n",
      "\tChannel: 2\tTimestamp: 9:42\t\tFreq D: 0,[1, 2]\n",
      "\tChannel: 2\tTimestamp: 9:43\t\tFreq D: 0,[]\n",
      "\tChannel: 2\tTimestamp: 9:44\t\tFreq D: 0,[]\n",
      "60.000 Minutes Processed\tChannel: 1\tTimestamp: 10:26\t\tFreq D: 0,[0, 0]\n",
      "\tChannel: 1\tTimestamp: 10:27\t\tFreq D: 0,[0]\n",
      "\tChannel: 1\tTimestamp: 10:28\t\tFreq D: 0,[0]\n",
      "\tChannel: 1\tTimestamp: 10:28\t\tFreq D: 0,[0]\n",
      "\tChannel: 1\tTimestamp: 10:30\t\tFreq D: 0,[]\n",
      "\tChannel: 1\tTimestamp: 10:31\t\tFreq D: 0,[1]\n",
      "\tChannel: 1\tTimestamp: 10:32\t\tFreq D: 0,[1]\n",
      "\tChannel: 1\tTimestamp: 10:33\t\tFreq D: 0,[]\n",
      "\tChannel: 1\tTimestamp: 10:34\t\tFreq D: 0,[]\n",
      "\tChannel: 1\tTimestamp: 10:35\t\tFreq D: 0,[0]\n",
      "\tChannel: 1\tTimestamp: 10:35\t\tFreq D: 0,[]\n",
      "\tChannel: 1\tTimestamp: 10:36\t\tFreq D: 0,[0]\n",
      "\tChannel: 1\tTimestamp: 10:37\t\tFreq D: 0,[]\n",
      "\tChannel: 1\tTimestamp: 10:38\t\tFreq D: 0,[]\n",
      "\tChannel: 2\tTimestamp: 10:12\t\tFreq D: 0,[1, 2]\n",
      "\tChannel: 2\tTimestamp: 10:13\t\tFreq D: 0,[]\n",
      "\tChannel: 2\tTimestamp: 10:14\t\tFreq D: 0,[]\n",
      "\tChannel: 1\tTimestamp: 10:09\t\tFreq D: 0,[]\n",
      "\tChannel: 1\tTimestamp: 10:10\t\tFreq D: 0,[]\n",
      "\tChannel: 1\tTimestamp: 10:11\t\tFreq D: 0,[]\n",
      "\tChannel: 1\tTimestamp: 10:13\t\tFreq D: 0,[]\n",
      "\tChannel: 1\tTimestamp: 10:15\t\tFreq D: 0,[]\n",
      "\tChannel: 1\tTimestamp: 10:24\t\tFreq D: 0,[]\n",
      "\tChannel: 1\tTimestamp: 10:24\t\tFreq D: 0,[]\n",
      "\tChannel: 1\tTimestamp: 10:29\t\tFreq D: 0,[]\n",
      "67.667 Minutes Processed"
     ]
    },
    {
     "ename": "KeyboardInterrupt",
     "evalue": "",
     "output_type": "error",
     "traceback": [
      "\u001b[0;31m---------------------------------------------------------------------------\u001b[0m",
      "\u001b[0;31mKeyboardInterrupt\u001b[0m                         Traceback (most recent call last)",
      "\u001b[0;32m<ipython-input-126-fcc4e242caa8>\u001b[0m in \u001b[0;36m<module>\u001b[0;34m()\u001b[0m\n\u001b[1;32m     40\u001b[0m                     \u001b[0mProcessLine\u001b[0m\u001b[0;34m(\u001b[0m\u001b[0mline\u001b[0m\u001b[0;34m)\u001b[0m\u001b[0;34m\u001b[0m\u001b[0m\n\u001b[1;32m     41\u001b[0m                     \u001b[0mminutesSinceStart\u001b[0m \u001b[0;34m=\u001b[0m \u001b[0mGetTimeSinceStart\u001b[0m\u001b[0;34m(\u001b[0m\u001b[0mX\u001b[0m\u001b[0;34m[\u001b[0m\u001b[0;34m-\u001b[0m\u001b[0;36m1\u001b[0m\u001b[0;34m]\u001b[0m\u001b[0;34m[\u001b[0m\u001b[0;36m0\u001b[0m\u001b[0;34m]\u001b[0m\u001b[0;34m,\u001b[0m\u001b[0mfirst_sec\u001b[0m\u001b[0;34m)\u001b[0m\u001b[0;34m\u001b[0m\u001b[0m\n\u001b[0;32m---> 42\u001b[0;31m                     \u001b[0;32mif\u001b[0m \u001b[0mprogress\u001b[0m \u001b[0;34m%\u001b[0m \u001b[0;34m(\u001b[0m\u001b[0mDWT_blocksize\u001b[0m\u001b[0;34m*\u001b[0m\u001b[0;36m4\u001b[0m\u001b[0;34m)\u001b[0m \u001b[0;34m==\u001b[0m \u001b[0;36m0\u001b[0m\u001b[0;34m:\u001b[0m \u001b[0;31m#process DWT\u001b[0m\u001b[0;34m\u001b[0m\u001b[0m\n\u001b[0m\u001b[1;32m     43\u001b[0m                         \u001b[0mX\u001b[0m \u001b[0;34m=\u001b[0m \u001b[0mnp\u001b[0m\u001b[0;34m.\u001b[0m\u001b[0masmatrix\u001b[0m\u001b[0;34m(\u001b[0m\u001b[0mX\u001b[0m\u001b[0;34m)\u001b[0m\u001b[0;34m\u001b[0m\u001b[0m\n\u001b[1;32m     44\u001b[0m                         \u001b[0mProcessDWT\u001b[0m\u001b[0;34m(\u001b[0m\u001b[0mInclude_Spikes\u001b[0m\u001b[0;34m)\u001b[0m\u001b[0;34m\u001b[0m\u001b[0m\n",
      "\u001b[0;31mKeyboardInterrupt\u001b[0m: "
     ]
    }
   ],
   "source": [
    "#Initialize paths and widget information\n",
    "filename = os.getenv('File_Folder', os.path.expanduser('~/kal/'))\n",
    "#varianceParameter = float(os.getenv('Percent_Sensitivity'))/100\n",
    "#timeParameter = np.float(os.getenv('Expected_Artifact_Length'))/2\n",
    "filename = PathWidget.value\n",
    "varianceParameter = SensitivityWidget.value/100\n",
    "timeParameter = TimeWidget.value/2;\n",
    "filename = PathWidget.value;\n",
    "Include_Spikes = SpikeWidget.value;\n",
    "Reset_Cache = ResetWidget.value;\n",
    "\n",
    "\n",
    "#Run through entire file at first entrance\n",
    "if Reset_Cache == True:\n",
    "    with open(filename,'r') as file:\n",
    "        #Initialize\n",
    "        first_sec = GetStartTime(file)\n",
    "        \n",
    "        #Output desciption of file\n",
    "        total = minutesSinceStart\n",
    "        sys.stdout.write('\\n\\nFile ' + str(filename) +'\\n')\n",
    "        sys.stdout.write(str(nChannels-1) + ' channels exist over a length of {0:0.2f}'.format(total) + ' minutes \\n\\n')\n",
    "\n",
    "        #seekLine(file,jumpStart) #start at 8:08am\n",
    "        GetChannels(file)\n",
    "        samplingRate = int(GetSamplingRate(file))\n",
    "        if samplingRate < 8000:\n",
    "             timeParameter = timeParameter * 3\n",
    "        X = []\n",
    "        D = []\n",
    "        results = []\n",
    "        progress = 0\n",
    "\n",
    "        for data in ReadChunks(file):\n",
    "            time.sleep(1)\n",
    "            try:\n",
    "                #Split each line and read into Matrix X\n",
    "                for index,line in enumerate(data):\n",
    "                    if index % 2 == 1: continue #Use every other measurement?\n",
    "                    ProcessLine(line)\n",
    "                    minutesSinceStart = GetTimeSinceStart(X[-1][0],first_sec)\n",
    "                    if progress % (DWT_blocksize*4) == 0: #process DWT\n",
    "                        X = np.asmatrix(X)\n",
    "                        ProcessDWT(Include_Spikes)\n",
    "                        del X\n",
    "                        X = []\n",
    "\n",
    "                    elif progress % (30 * 60 * samplingRate/2) == 0:#look for seizures, reset D every 30 minutes\n",
    "                        D = np.asmatrix(D)\n",
    "                        standardTimeParameter = int((samplingRate*timeParameter)/(DWT_blocksize*4))\n",
    "                        results = SeizureSearch(varianceParameter,standardTimeParameter,results)\n",
    "                        for i,item in enumerate(results):\n",
    "                            timestamp = datetime.datetime.utcfromtimestamp(D[item[0],0])\n",
    "                            sys.stdout.write('\\tChannel: ' + str(item[2]))\n",
    "                            sys.stdout.write('\\tTimestamp: {:d}:{:02d}'.format(timestamp.hour,timestamp.minute) + '\\t')\n",
    "                            sys.stdout.write('\\tFreq D: ' + \",\".join([str((item[1]-1)%(DWT_frequencies+1)),str(item[3:])]))\n",
    "                            sys.stdout.write('\\n')\n",
    "                        #for arte in results:\n",
    "                            #print('\\n Artefact at minute: %.3f' % float(GetTimeSinceStart(D[arte[0],0],first_sec)),' Mean low frequency...')\n",
    "                            #print('Before artefact:', np.nanmean(D[:arte[0],arte[1]]))\n",
    "                            #print('After artefact:', np.nanmean(D[arte[0]:,arte[1]]))\n",
    "                        del D\n",
    "                        D = []\n",
    "\n",
    "                    progress += 1\n",
    "                    if progress % 10000 == 0:\n",
    "                        sys.stdout.write(\"\\r%.3f\" % float(round(minutesSinceStart,3)) + ' Minutes Processed')\n",
    "                        sys.stdout.flush()\n",
    "\n",
    "            #catch any purposeful breaks\n",
    "            except BreakIt:\n",
    "                print('\\nForced Break')\n",
    "                reset = False\n",
    "                break"
   ]
  },
  {
   "cell_type": "code",
   "execution_count": null,
   "metadata": {
    "collapsed": false,
    "extensions": {
     "jupyter_dashboards": {
      "version": 1,
      "views": {
       "grid_default": {
        "col": null,
        "height": 4,
        "hidden": false,
        "row": 4,
        "width": null
       },
       "report_default": {
        "hidden": false
       }
      }
     }
    }
   },
   "outputs": [],
   "source": [
    "if len(results)>0 and len(results) < 6:\n",
    "    GetSeizureImage(results, standardTimeParameter, filename)"
   ]
  },
  {
   "cell_type": "code",
   "execution_count": null,
   "metadata": {
    "collapsed": false,
    "extensions": {
     "jupyter_dashboards": {
      "version": 1,
      "views": {
       "grid_default": {},
       "report_default": {
        "hidden": true
       }
      }
     }
    }
   },
   "outputs": [],
   "source": [
    "sys.stdout.write('\\nCompleted.')"
   ]
  },
  {
   "cell_type": "code",
   "execution_count": null,
   "metadata": {
    "collapsed": true
   },
   "outputs": [],
   "source": []
  }
 ],
 "metadata": {
  "anaconda-cloud": {},
  "celltoolbar": "Edit Metadata",
  "extensions": {
   "jupyter_dashboards": {
    "activeView": "report_default",
    "version": 1,
    "views": {
     "grid_default": {
      "cellMargin": 10,
      "defaultCellHeight": 20,
      "maxColumns": 12,
      "name": "grid",
      "type": "grid"
     },
     "report_default": {
      "name": "report",
      "type": "report"
     }
    }
   }
  },
  "kernelspec": {
   "display_name": "Python [Root]",
   "language": "python",
   "name": "Python [Root]"
  },
  "language_info": {
   "codemirror_mode": {
    "name": "ipython",
    "version": 3
   },
   "file_extension": ".py",
   "mimetype": "text/x-python",
   "name": "python",
   "nbconvert_exporter": "python",
   "pygments_lexer": "ipython3",
   "version": "3.5.2"
  }
 },
 "nbformat": 4,
 "nbformat_minor": 2
}
